{
 "cells": [
  {
   "cell_type": "markdown",
   "id": "650400ce-7443-4991-8758-4a2ef927a76d",
   "metadata": {},
   "source": [
    "# Data Preprocessing and feature engineering-Phase 2"
   ]
  },
  {
   "cell_type": "code",
   "execution_count": 1,
   "id": "cfc525a5-b147-452c-9a5f-9095bb193a34",
   "metadata": {},
   "outputs": [],
   "source": [
    "import pandas as pd\n",
    "from sklearn.model_selection import train_test_split\n",
    "from sklearn.preprocessing import StandardScaler, OneHotEncoder\n",
    "from sklearn.impute import SimpleImputer\n",
    "from sklearn.pipeline import Pipeline\n",
    "import matplotlib.pyplot as plt\n",
    "from sklearn.compose import ColumnTransformer\n",
    "from sklearn.decomposition import PCA"
   ]
  },
  {
   "cell_type": "markdown",
   "id": "a11adb46-5509-44c3-857c-699abd1d9c15",
   "metadata": {},
   "source": [
    "# Data Collection\n",
    "## Ramen Ratings dataset\n",
    "### The Ramen Ratings dataset is an introductory dataset designed for beginners to practice exploratory data analysis (EDA). It provides a variety of information about different types of Ramen noodles, including their styles, pack sizes, countries of origin, and ratings. This dataset is ideal for those looking to explore data, generate visualizations, and practice data manipulation techniques. The dataset is collected from kaggale.\n",
    "\n",
    "### Content\n",
    "### The dataset contains information on various Ramen noodles, characterized by the following attributes:\n",
    "    Style: The style or type of Ramen (e.g., Cup, Pack, Bowl).\n",
    "    Pack Size: The size of the Ramen pack (e.g., single, multiple packs).\n",
    "    Country: The country where the Ramen is from.\n",
    "    Rating: The rating of the Ramen, potentially indicating its quality or popularity.\n",
    "### Columns\n",
    "    Brand: The brand name of the Ramen.\n",
    "    Variety: The specific variety or flavor of the Ramen.\n",
    "    Style: The style of packaging (e.g., Cup, Pack, Bowl).\n",
    "    Country: The country of origin.\n",
    "    Stars: The rating of the Ramen (usually out of 5 stars).\n",
    "    Top Ten: The year and rank if the Ramen is in the top 10 for that year."
   ]
  },
  {
   "cell_type": "code",
   "execution_count": 2,
   "id": "61f49f36-7024-47e6-9b62-d72694e558d9",
   "metadata": {},
   "outputs": [],
   "source": [
    "data = pd.read_csv('ramen-ratings.csv')"
   ]
  },
  {
   "cell_type": "code",
   "execution_count": 3,
   "id": "9ad8b2f2-44e9-46e0-b680-241e964e7d95",
   "metadata": {},
   "outputs": [
    {
     "data": {
      "text/html": [
       "<div>\n",
       "<style scoped>\n",
       "    .dataframe tbody tr th:only-of-type {\n",
       "        vertical-align: middle;\n",
       "    }\n",
       "\n",
       "    .dataframe tbody tr th {\n",
       "        vertical-align: top;\n",
       "    }\n",
       "\n",
       "    .dataframe thead th {\n",
       "        text-align: right;\n",
       "    }\n",
       "</style>\n",
       "<table border=\"1\" class=\"dataframe\">\n",
       "  <thead>\n",
       "    <tr style=\"text-align: right;\">\n",
       "      <th></th>\n",
       "      <th>Review #</th>\n",
       "      <th>Brand</th>\n",
       "      <th>Variety</th>\n",
       "      <th>Style</th>\n",
       "      <th>Country</th>\n",
       "      <th>Stars</th>\n",
       "      <th>Top_Ten</th>\n",
       "    </tr>\n",
       "  </thead>\n",
       "  <tbody>\n",
       "    <tr>\n",
       "      <th>0</th>\n",
       "      <td>2580</td>\n",
       "      <td>New Touch</td>\n",
       "      <td>T's Restaurant Tantanmen</td>\n",
       "      <td>Cup</td>\n",
       "      <td>Japan</td>\n",
       "      <td>3.75</td>\n",
       "      <td>NaN</td>\n",
       "    </tr>\n",
       "    <tr>\n",
       "      <th>1</th>\n",
       "      <td>2579</td>\n",
       "      <td>Just Way</td>\n",
       "      <td>Noodles Spicy Hot Sesame Spicy Hot Sesame Guan...</td>\n",
       "      <td>Pack</td>\n",
       "      <td>Taiwan</td>\n",
       "      <td>1</td>\n",
       "      <td>NaN</td>\n",
       "    </tr>\n",
       "    <tr>\n",
       "      <th>2</th>\n",
       "      <td>2578</td>\n",
       "      <td>Nissin</td>\n",
       "      <td>Cup Noodles Chicken Vegetable</td>\n",
       "      <td>Cup</td>\n",
       "      <td>USA</td>\n",
       "      <td>2.25</td>\n",
       "      <td>NaN</td>\n",
       "    </tr>\n",
       "    <tr>\n",
       "      <th>3</th>\n",
       "      <td>2577</td>\n",
       "      <td>Wei Lih</td>\n",
       "      <td>GGE Ramen Snack Tomato Flavor</td>\n",
       "      <td>Pack</td>\n",
       "      <td>Taiwan</td>\n",
       "      <td>2.75</td>\n",
       "      <td>NaN</td>\n",
       "    </tr>\n",
       "    <tr>\n",
       "      <th>4</th>\n",
       "      <td>2576</td>\n",
       "      <td>Ching's Secret</td>\n",
       "      <td>Singapore Curry</td>\n",
       "      <td>Pack</td>\n",
       "      <td>India</td>\n",
       "      <td>3.75</td>\n",
       "      <td>NaN</td>\n",
       "    </tr>\n",
       "    <tr>\n",
       "      <th>...</th>\n",
       "      <td>...</td>\n",
       "      <td>...</td>\n",
       "      <td>...</td>\n",
       "      <td>...</td>\n",
       "      <td>...</td>\n",
       "      <td>...</td>\n",
       "      <td>...</td>\n",
       "    </tr>\n",
       "    <tr>\n",
       "      <th>2575</th>\n",
       "      <td>5</td>\n",
       "      <td>Vifon</td>\n",
       "      <td>Hu Tiu Nam Vang [\"Phnom Penh\" style] Asian Sty...</td>\n",
       "      <td>Bowl</td>\n",
       "      <td>Vietnam</td>\n",
       "      <td>3.5</td>\n",
       "      <td>NaN</td>\n",
       "    </tr>\n",
       "    <tr>\n",
       "      <th>2576</th>\n",
       "      <td>4</td>\n",
       "      <td>Wai Wai</td>\n",
       "      <td>Oriental Style Instant Noodles</td>\n",
       "      <td>Pack</td>\n",
       "      <td>Thailand</td>\n",
       "      <td>1</td>\n",
       "      <td>NaN</td>\n",
       "    </tr>\n",
       "    <tr>\n",
       "      <th>2577</th>\n",
       "      <td>3</td>\n",
       "      <td>Wai Wai</td>\n",
       "      <td>Tom Yum Shrimp</td>\n",
       "      <td>Pack</td>\n",
       "      <td>Thailand</td>\n",
       "      <td>2</td>\n",
       "      <td>NaN</td>\n",
       "    </tr>\n",
       "    <tr>\n",
       "      <th>2578</th>\n",
       "      <td>2</td>\n",
       "      <td>Wai Wai</td>\n",
       "      <td>Tom Yum Chili Flavor</td>\n",
       "      <td>Pack</td>\n",
       "      <td>Thailand</td>\n",
       "      <td>2</td>\n",
       "      <td>NaN</td>\n",
       "    </tr>\n",
       "    <tr>\n",
       "      <th>2579</th>\n",
       "      <td>1</td>\n",
       "      <td>Westbrae</td>\n",
       "      <td>Miso Ramen</td>\n",
       "      <td>Pack</td>\n",
       "      <td>USA</td>\n",
       "      <td>0.5</td>\n",
       "      <td>NaN</td>\n",
       "    </tr>\n",
       "  </tbody>\n",
       "</table>\n",
       "<p>2580 rows × 7 columns</p>\n",
       "</div>"
      ],
      "text/plain": [
       "      Review #           Brand  \\\n",
       "0         2580       New Touch   \n",
       "1         2579        Just Way   \n",
       "2         2578          Nissin   \n",
       "3         2577         Wei Lih   \n",
       "4         2576  Ching's Secret   \n",
       "...        ...             ...   \n",
       "2575         5           Vifon   \n",
       "2576         4         Wai Wai   \n",
       "2577         3         Wai Wai   \n",
       "2578         2         Wai Wai   \n",
       "2579         1        Westbrae   \n",
       "\n",
       "                                                Variety Style   Country Stars  \\\n",
       "0                             T's Restaurant Tantanmen    Cup     Japan  3.75   \n",
       "1     Noodles Spicy Hot Sesame Spicy Hot Sesame Guan...  Pack    Taiwan     1   \n",
       "2                         Cup Noodles Chicken Vegetable   Cup       USA  2.25   \n",
       "3                         GGE Ramen Snack Tomato Flavor  Pack    Taiwan  2.75   \n",
       "4                                       Singapore Curry  Pack     India  3.75   \n",
       "...                                                 ...   ...       ...   ...   \n",
       "2575  Hu Tiu Nam Vang [\"Phnom Penh\" style] Asian Sty...  Bowl   Vietnam   3.5   \n",
       "2576                     Oriental Style Instant Noodles  Pack  Thailand     1   \n",
       "2577                                     Tom Yum Shrimp  Pack  Thailand     2   \n",
       "2578                               Tom Yum Chili Flavor  Pack  Thailand     2   \n",
       "2579                                         Miso Ramen  Pack       USA   0.5   \n",
       "\n",
       "     Top_Ten  \n",
       "0        NaN  \n",
       "1        NaN  \n",
       "2        NaN  \n",
       "3        NaN  \n",
       "4        NaN  \n",
       "...      ...  \n",
       "2575     NaN  \n",
       "2576     NaN  \n",
       "2577     NaN  \n",
       "2578     NaN  \n",
       "2579     NaN  \n",
       "\n",
       "[2580 rows x 7 columns]"
      ]
     },
     "execution_count": 3,
     "metadata": {},
     "output_type": "execute_result"
    }
   ],
   "source": [
    "data"
   ]
  },
  {
   "cell_type": "markdown",
   "id": "12e4d27b-1118-440e-8158-65d0a7dc25a9",
   "metadata": {},
   "source": [
    "# Data Inspection"
   ]
  },
  {
   "cell_type": "code",
   "execution_count": 4,
   "id": "9012dc61-485d-47f1-9933-997110995134",
   "metadata": {},
   "outputs": [
    {
     "name": "stdout",
     "output_type": "stream",
     "text": [
      "<class 'pandas.core.frame.DataFrame'>\n",
      "RangeIndex: 2580 entries, 0 to 2579\n",
      "Data columns (total 7 columns):\n",
      " #   Column    Non-Null Count  Dtype \n",
      "---  ------    --------------  ----- \n",
      " 0   Review #  2580 non-null   int64 \n",
      " 1   Brand     2580 non-null   object\n",
      " 2   Variety   2580 non-null   object\n",
      " 3   Style     2578 non-null   object\n",
      " 4   Country   2580 non-null   object\n",
      " 5   Stars     2580 non-null   object\n",
      " 6   Top_Ten   41 non-null     object\n",
      "dtypes: int64(1), object(6)\n",
      "memory usage: 141.2+ KB\n",
      "None\n"
     ]
    }
   ],
   "source": [
    "print(data.info())"
   ]
  },
  {
   "cell_type": "code",
   "execution_count": 5,
   "id": "3b946db5-aadc-4069-a6e8-48ac291a99b5",
   "metadata": {},
   "outputs": [
    {
     "name": "stdout",
     "output_type": "stream",
     "text": [
      "          Review #\n",
      "count  2580.000000\n",
      "mean   1290.500000\n",
      "std     744.926171\n",
      "min       1.000000\n",
      "25%     645.750000\n",
      "50%    1290.500000\n",
      "75%    1935.250000\n",
      "max    2580.000000\n"
     ]
    }
   ],
   "source": [
    "print(data.describe())"
   ]
  },
  {
   "cell_type": "code",
   "execution_count": 6,
   "id": "da21e9ba-ec11-405c-b580-09f8bb3d8c04",
   "metadata": {},
   "outputs": [
    {
     "name": "stdout",
     "output_type": "stream",
     "text": [
      "Review #     int64\n",
      "Brand       object\n",
      "Variety     object\n",
      "Style       object\n",
      "Country     object\n",
      "Stars       object\n",
      "Top_Ten     object\n",
      "dtype: object\n"
     ]
    }
   ],
   "source": [
    "print(data.dtypes)\n"
   ]
  },
  {
   "cell_type": "code",
   "execution_count": 7,
   "id": "846df112-5ea0-400e-9f8c-dd0cd6b39faa",
   "metadata": {},
   "outputs": [
    {
     "name": "stdout",
     "output_type": "stream",
     "text": [
      "<class 'pandas.core.frame.DataFrame'>\n",
      "RangeIndex: 2580 entries, 0 to 2579\n",
      "Data columns (total 7 columns):\n",
      " #   Column    Non-Null Count  Dtype \n",
      "---  ------    --------------  ----- \n",
      " 0   Review #  2580 non-null   int64 \n",
      " 1   Brand     2580 non-null   object\n",
      " 2   Variety   2580 non-null   object\n",
      " 3   Style     2578 non-null   object\n",
      " 4   Country   2580 non-null   object\n",
      " 5   Stars     2580 non-null   object\n",
      " 6   Top_Ten   41 non-null     object\n",
      "dtypes: int64(1), object(6)\n",
      "memory usage: 141.2+ KB\n"
     ]
    }
   ],
   "source": [
    "\n",
    "data.info()"
   ]
  },
  {
   "cell_type": "code",
   "execution_count": 8,
   "id": "e14bed05-597b-48e7-a94c-91d8ae18bf4a",
   "metadata": {},
   "outputs": [
    {
     "name": "stdout",
     "output_type": "stream",
     "text": [
      "Total duplicate rows: 0\n"
     ]
    }
   ],
   "source": [
    "duplicate_rows = data.duplicated()\n",
    "print(f'Total duplicate rows: {duplicate_rows.sum()}')"
   ]
  },
  {
   "cell_type": "code",
   "execution_count": 9,
   "id": "a4f166e4-52fe-4e42-9382-11dfdb0f287a",
   "metadata": {},
   "outputs": [
    {
     "name": "stdout",
     "output_type": "stream",
     "text": [
      "Empty DataFrame\n",
      "Columns: [Review #, Brand, Variety, Style, Country, Stars, Top_Ten]\n",
      "Index: []\n"
     ]
    }
   ],
   "source": [
    " #display the duplicated rows\n",
    "print(data[duplicate_rows])"
   ]
  },
  {
   "cell_type": "markdown",
   "id": "d1c7b720-9eba-4a94-afde-7495aa6a0177",
   "metadata": {},
   "source": [
    "# Data Cleaning"
   ]
  },
  {
   "cell_type": "code",
   "execution_count": 10,
   "id": "2c414b85-9fd5-4246-93af-b6302ef00629",
   "metadata": {},
   "outputs": [
    {
     "data": {
      "text/plain": [
       "Review #       0\n",
       "Brand          0\n",
       "Variety        0\n",
       "Style          2\n",
       "Country        0\n",
       "Stars          0\n",
       "Top_Ten     2539\n",
       "dtype: int64"
      ]
     },
     "execution_count": 10,
     "metadata": {},
     "output_type": "execute_result"
    }
   ],
   "source": [
    "data.isna().sum()"
   ]
  },
  {
   "cell_type": "code",
   "execution_count": 11,
   "id": "df79df6a-dbc7-4d4f-8836-cc31f5cded70",
   "metadata": {},
   "outputs": [
    {
     "data": {
      "image/png": "[encoded data removed]",
      "text/plain": [
       "<Figure size 640x480 with 1 Axes>"
      ]
     },
     "metadata": {},
     "output_type": "display_data"
    }
   ],
   "source": [
    "# Create a binary feature indicating missingness in the 'Style' column\n",
    "data['Style_Missing'] = data['Style'].isna().astype(int)\n",
    "\n",
    "# Calculate the proportion of 'Top Ten' status within each group\n",
    "relationship = data.groupby('Style_Missing')['Top_Ten'].value_counts(normalize=True).unstack()\n",
    "\n",
    "# Plot the relationship\n",
    "relationship.plot(kind='bar', stacked=True)\n",
    "plt.xlabel('Missing Style Column')\n",
    "plt.ylabel('Proportion')\n",
    "plt.title('Proportion of Top Ten Status by Missing Style Column')\n",
    "plt.legend(title='Top_Ten')\n",
    "plt.xticks([0, 1], ['Not Missing', 'Missing'], rotation=0)\n",
    "plt.show()"
   ]
  },
  {
   "cell_type": "code",
   "execution_count": 12,
   "id": "51499947-2957-4532-9765-cf09c4e3ad07",
   "metadata": {},
   "outputs": [
    {
     "name": "stdout",
     "output_type": "stream",
     "text": [
      "Missing Values Per Column:\n",
      "Review #            0\n",
      "Brand               0\n",
      "Variety             0\n",
      "Style               2\n",
      "Country             0\n",
      "Stars               0\n",
      "Top_Ten          2539\n",
      "Style_Missing       0\n",
      "dtype: int64\n"
     ]
    }
   ],
   "source": [
    "print(\"Missing Values Per Column:\")\n",
    "print(data.isna().sum())"
   ]
  },
  {
   "cell_type": "code",
   "execution_count": 13,
   "id": "4c1bf8df-c65c-4997-9fc8-64d89be81da5",
   "metadata": {},
   "outputs": [
    {
     "name": "stdout",
     "output_type": "stream",
     "text": [
      "Numeric columns: Index(['Review #'], dtype='object')\n",
      "Non-numeric columns: Index(['Brand', 'Variety', 'Style', 'Country', 'Stars', 'Top_Ten',\n",
      "       'Style_Missing'],\n",
      "      dtype='object')\n"
     ]
    }
   ],
   "source": [
    "numeric_cols = data.select_dtypes(include=['float64', 'int64']).columns\n",
    "non_numeric_cols = data.select_dtypes(exclude=['float64', 'int64']).columns\n",
    "\n",
    "print(f\"Numeric columns: {numeric_cols}\")\n",
    "print(f\"Non-numeric columns: {non_numeric_cols}\")\n"
   ]
  },
  {
   "cell_type": "code",
   "execution_count": 14,
   "id": "e897e77d-5fa7-4594-9307-939cac7b0015",
   "metadata": {},
   "outputs": [
    {
     "name": "stdout",
     "output_type": "stream",
     "text": [
      "\n",
      "Remaining Missing Values Per Column After Imputation:\n",
      "Review #         0\n",
      "Brand            0\n",
      "Variety          0\n",
      "Style            0\n",
      "Country          0\n",
      "Stars            0\n",
      "Top_Ten          0\n",
      "Style_Missing    0\n",
      "dtype: int64\n"
     ]
    }
   ],
   "source": [
    "\n",
    "# Step 3: Impute Missing Values\n",
    "# Impute numeric columns with mean\n",
    "imputer_mean = SimpleImputer(strategy='mean')\n",
    "data[numeric_cols] = imputer_mean.fit_transform(data[numeric_cols])\n",
    "\n",
    "# Impute non-numeric columns with the most frequent value\n",
    "imputer_mode = SimpleImputer(strategy='most_frequent')\n",
    "data[non_numeric_cols] = imputer_mode.fit_transform(data[non_numeric_cols])\n",
    "\n",
    "# Check for remaining missing values\n",
    "print(\"\\nRemaining Missing Values Per Column After Imputation:\")\n",
    "print(data.isna().sum())"
   ]
  },
  {
   "cell_type": "code",
   "execution_count": 15,
   "id": "f3cdc6ae-1f4b-411b-ae27-65f16954da2d",
   "metadata": {},
   "outputs": [
    {
     "name": "stdout",
     "output_type": "stream",
     "text": [
      "Number of outliers in Review #: 0\n"
     ]
    }
   ],
   "source": [
    "#  Identify Outliers using IQR\n",
    "def identify_outliers(df, col):\n",
    "    Q1 = df[col].quantile(0.25)\n",
    "    Q3 = df[col].quantile(0.75)\n",
    "    IQR = Q3 - Q1\n",
    "    lower_bound = Q1 - 1.5 * IQR\n",
    "    upper_bound = Q3 + 1.5 * IQR\n",
    "    return df[(df[col] < lower_bound) | (df[col] > upper_bound)]\n",
    "\n",
    "outliers = {col: identify_outliers(data, col) for col in numeric_cols}\n",
    "\n",
    "# Print the number of outliers for each column\n",
    "for col in numeric_cols:\n",
    "    print(f'Number of outliers in {col}: {len(outliers[col])}')\n"
   ]
  },
  {
   "cell_type": "markdown",
   "id": "56b53240-c4cb-4e29-8323-be9fc1a3d4c8",
   "metadata": {},
   "source": [
    "# Feature Engineering"
   ]
  },
  {
   "cell_type": "code",
   "execution_count": 16,
   "id": "22e55a3e-8b38-456b-8100-04a3eb6d5aad",
   "metadata": {},
   "outputs": [],
   "source": [
    "from sklearn.preprocessing import OneHotEncoder, LabelEncoder, PolynomialFeatures, KBinsDiscretizer\n",
    "\n",
    "categorical_cols = data.select_dtypes(include=['object', 'category']).columns"
   ]
  },
  {
   "cell_type": "code",
   "execution_count": 17,
   "id": "031d96d8-bb74-48f2-85f4-094bc1cbd415",
   "metadata": {},
   "outputs": [
    {
     "data": {
      "text/plain": [
       "Index(['Brand', 'Variety', 'Style', 'Country', 'Stars', 'Top_Ten',\n",
       "       'Style_Missing'],\n",
       "      dtype='object')"
      ]
     },
     "execution_count": 17,
     "metadata": {},
     "output_type": "execute_result"
    }
   ],
   "source": [
    "categorical_cols"
   ]
  },
  {
   "cell_type": "code",
   "execution_count": 18,
   "id": "51849091-28c7-472e-9ad7-f3abc4e5de3f",
   "metadata": {},
   "outputs": [
    {
     "name": "stderr",
     "output_type": "stream",
     "text": [
      "C:\\Users\\91914\\an\\Lib\\site-packages\\sklearn\\preprocessing\\_encoders.py:868: FutureWarning: `sparse` was renamed to `sparse_output` in version 1.2 and will be removed in 1.4. `sparse_output` is ignored unless you leave `sparse` to its default value.\n",
      "  warnings.warn(\n"
     ]
    }
   ],
   "source": [
    "# One-Hot Encoding\n",
    "one_hot_encoder = OneHotEncoder(sparse=False, drop='first')\n",
    "data_one_hot_encoded = pd.DataFrame(one_hot_encoder.fit_transform(data[categorical_cols]), \n",
    "                                    columns=one_hot_encoder.get_feature_names_out(categorical_cols))"
   ]
  },
  {
   "cell_type": "code",
   "execution_count": 19,
   "id": "c17e17f6-0056-456d-b765-8fdaf9cd8cac",
   "metadata": {},
   "outputs": [],
   "source": [
    "# Label Encoding\n",
    "label_encoder = LabelEncoder()\n",
    "data_label_encoded = data[categorical_cols].apply(label_encoder.fit_transform)"
   ]
  },
  {
   "cell_type": "code",
   "execution_count": 20,
   "id": "8837657a-ecc7-4057-9a61-4495d9bbd8e0",
   "metadata": {},
   "outputs": [],
   "source": [
    "# Drop original categorical columns and concatenate encoded columns\n",
    "data_encoded = data.drop(categorical_cols, axis=1)\n",
    "data_encoded = pd.concat([data_encoded, data_one_hot_encoded], axis=1)\n",
    "\n",
    "# Step 2: Create Interaction Features\n",
    "numeric_cols = data.select_dtypes(include=['float64', 'int64']).columns\n",
    "\n",
    "# Only consider a subset for interaction to avoid huge dimensionality\n",
    "selected_numeric_cols = numeric_cols[:3]  # Example: First 3 numeric columns\n",
    "\n",
    "interaction_terms = PolynomialFeatures(degree=2, interaction_only=True, include_bias=False)\n",
    "data_interaction = pd.DataFrame(interaction_terms.fit_transform(data_encoded[selected_numeric_cols]),\n",
    "                                columns=interaction_terms.get_feature_names_out(selected_numeric_cols))\n",
    "\n",
    "# Concatenate interaction features with the original data\n",
    "data_encoded = pd.concat([data_encoded, data_interaction], axis=1)"
   ]
  },
  {
   "cell_type": "code",
   "execution_count": 21,
   "id": "ef0f8eaf-4240-4a8c-90c8-677ab8afcd9b",
   "metadata": {},
   "outputs": [
    {
     "name": "stdout",
     "output_type": "stream",
     "text": [
      "Column 'Stars' not found in the dataset\n",
      "   Review #  Brand_7 Select  Brand_7 Select/Nissin  Brand_A-One  \\\n",
      "0    2580.0             0.0                    0.0          0.0   \n",
      "1    2579.0             0.0                    0.0          0.0   \n",
      "2    2578.0             0.0                    0.0          0.0   \n",
      "3    2577.0             0.0                    0.0          0.0   \n",
      "4    2576.0             0.0                    0.0          0.0   \n",
      "\n",
      "   Brand_A-Sha Dry Noodle  Brand_A1  Brand_ABC  Brand_Acecook  Brand_Adabi  \\\n",
      "0                     0.0       0.0        0.0            0.0          0.0   \n",
      "1                     0.0       0.0        0.0            0.0          0.0   \n",
      "2                     0.0       0.0        0.0            0.0          0.0   \n",
      "3                     0.0       0.0        0.0            0.0          0.0   \n",
      "4                     0.0       0.0        0.0            0.0          0.0   \n",
      "\n",
      "   Brand_Ah Lai  ...  Top_Ten_2015 #8  Top_Ten_2015 #9  Top_Ten_2016 #1  \\\n",
      "0           0.0  ...              0.0              0.0              0.0   \n",
      "1           0.0  ...              0.0              0.0              0.0   \n",
      "2           0.0  ...              0.0              0.0              0.0   \n",
      "3           0.0  ...              0.0              0.0              0.0   \n",
      "4           0.0  ...              0.0              0.0              0.0   \n",
      "\n",
      "   Top_Ten_2016 #10  Top_Ten_2016 #5  Top_Ten_2016 #7  Top_Ten_2016 #8  \\\n",
      "0               0.0              0.0              0.0              0.0   \n",
      "1               0.0              0.0              0.0              0.0   \n",
      "2               0.0              0.0              0.0              0.0   \n",
      "3               0.0              0.0              0.0              0.0   \n",
      "4               0.0              0.0              0.0              0.0   \n",
      "\n",
      "   Top_Ten_2016 #9  Style_Missing_1  Review #  \n",
      "0              0.0              0.0    2580.0  \n",
      "1              0.0              0.0    2579.0  \n",
      "2              0.0              0.0    2578.0  \n",
      "3              0.0              0.0    2577.0  \n",
      "4              0.0              0.0    2576.0  \n",
      "\n",
      "[5 rows x 2891 columns]\n"
     ]
    }
   ],
   "source": [
    "#Binning one numeric column 'Stars' into 5 bins\n",
    "if 'age' in data.columns:\n",
    "    binner = KBinsDiscretizer(n_bins=5, encode='ordinal', strategy='uniform')\n",
    "    data_encoded['stars_binned'] = binner.fit_transform(data[['Stars']])\n",
    "else:\n",
    "    print(\"Column 'Stars' not found in the dataset\")\n",
    "\n",
    "# Check the resulting dataset\n",
    "print(data_encoded.head())\n",
    "\n",
    "# Save the processed dataset\n",
    "data_encoded.to_csv('your_processed_dataset.csv', index=False)"
   ]
  },
  {
   "cell_type": "markdown",
   "id": "8d39e080-c760-4a9b-bdc4-3f6f06b8e2d5",
   "metadata": {},
   "source": [
    "# Data Transformation"
   ]
  },
  {
   "cell_type": "code",
   "execution_count": 22,
   "id": "264742f6-dbfe-4962-b582-977f7b86e73e",
   "metadata": {},
   "outputs": [],
   "source": [
    "from sklearn.preprocessing import MinMaxScaler, StandardScaler\n",
    "from sklearn.compose import ColumnTransformer\n",
    "from sklearn.pipeline import Pipeline\n",
    "import numpy as np\n",
    "scaler_minmax = MinMaxScaler()\n",
    "data_scaled_minmax = scaler_minmax.fit_transform(data[numeric_cols])\n",
    "data_scaled_minmax = pd.DataFrame(data_scaled_minmax, columns=numeric_cols)"
   ]
  },
  {
   "cell_type": "code",
   "execution_count": 23,
   "id": "91462397-3d5e-446d-9b6e-50a4094868a8",
   "metadata": {},
   "outputs": [],
   "source": [
    "scaler_standard = StandardScaler()\n",
    "data_scaled_standard = scaler_standard.fit_transform(data[numeric_cols])\n",
    "data_scaled_standard = pd.DataFrame(data_scaled_standard, columns=numeric_cols)"
   ]
  },
  {
   "cell_type": "code",
   "execution_count": 24,
   "id": "809f7a4d-f005-4773-a3e3-f8f4d3dc20da",
   "metadata": {},
   "outputs": [
    {
     "data": {
      "image/png": "[encoded data removed]",
      "text/plain": [
       "<Figure size 1200x600 with 2 Axes>"
      ]
     },
     "metadata": {},
     "output_type": "display_data"
    }
   ],
   "source": [
    "data_log_transformed = data[numeric_cols].apply(lambda x: np.log1p(x))\n",
    "\n",
    "# Visualize the distributions before and after log transformation\n",
    "plt.figure(figsize=(12, 6))\n",
    "\n",
    "for i, col in enumerate(numeric_cols):\n",
    "    plt.subplot(2, len(numeric_cols), i + 1)\n",
    "    plt.hist(data[col], bins=30)\n",
    "    plt.title(f'{col} - Original')\n",
    "    plt.subplot(2, len(numeric_cols), i + len(numeric_cols) + 1)\n",
    "    plt.hist(data_log_transformed[col], bins=30)\n",
    "    plt.title(f'{col} - Log Transformed')\n",
    "\n",
    "plt.tight_layout()\n",
    "plt.show()\n",
    "\n",
    "# Concatenate the transformed features with non-numeric columns\n",
    "data_preprocessed = pd.concat([data.drop(numeric_cols, axis=1), data_scaled_minmax, data_scaled_standard, data_log_transformed], axis=1)\n",
    "\n",
    "# Save the preprocessed dataset\n",
    "data_preprocessed.to_csv('your_preprocessed_dataset.csv', index=False)"
   ]
  },
  {
   "cell_type": "markdown",
   "id": "77d66092-e6eb-4c88-adbe-3d01c203f089",
   "metadata": {},
   "source": [
    "# Phase II"
   ]
  },
  {
   "cell_type": "markdown",
   "id": "66514722-a8b7-415a-a55d-3446f0bce078",
   "metadata": {},
   "source": [
    "# Feature Engineering with Domain Knowledge\n",
    "## Geographical Features"
   ]
  },
  {
   "cell_type": "code",
   "execution_count": 26,
   "id": "b46d7c91-41fa-420e-92ca-ecca7dfcb8a2",
   "metadata": {},
   "outputs": [
    {
     "name": "stdout",
     "output_type": "stream",
     "text": [
      "Column 'country' not found in the dataset\n",
      "   Review #  Brand_7 Select  Brand_7 Select/Nissin  Brand_A-One  \\\n",
      "0    2580.0             0.0                    0.0          0.0   \n",
      "1    2579.0             0.0                    0.0          0.0   \n",
      "2    2578.0             0.0                    0.0          0.0   \n",
      "3    2577.0             0.0                    0.0          0.0   \n",
      "4    2576.0             0.0                    0.0          0.0   \n",
      "\n",
      "   Brand_A-Sha Dry Noodle  Brand_A1  Brand_ABC  Brand_Acecook  Brand_Adabi  \\\n",
      "0                     0.0       0.0        0.0            0.0          0.0   \n",
      "1                     0.0       0.0        0.0            0.0          0.0   \n",
      "2                     0.0       0.0        0.0            0.0          0.0   \n",
      "3                     0.0       0.0        0.0            0.0          0.0   \n",
      "4                     0.0       0.0        0.0            0.0          0.0   \n",
      "\n",
      "   Brand_Ah Lai  ...  Top_Ten_2015 #8  Top_Ten_2015 #9  Top_Ten_2016 #1  \\\n",
      "0           0.0  ...              0.0              0.0              0.0   \n",
      "1           0.0  ...              0.0              0.0              0.0   \n",
      "2           0.0  ...              0.0              0.0              0.0   \n",
      "3           0.0  ...              0.0              0.0              0.0   \n",
      "4           0.0  ...              0.0              0.0              0.0   \n",
      "\n",
      "   Top_Ten_2016 #10  Top_Ten_2016 #5  Top_Ten_2016 #7  Top_Ten_2016 #8  \\\n",
      "0               0.0              0.0              0.0              0.0   \n",
      "1               0.0              0.0              0.0              0.0   \n",
      "2               0.0              0.0              0.0              0.0   \n",
      "3               0.0              0.0              0.0              0.0   \n",
      "4               0.0              0.0              0.0              0.0   \n",
      "\n",
      "   Top_Ten_2016 #9  Style_Missing_1  Review #  \n",
      "0              0.0              0.0    2580.0  \n",
      "1              0.0              0.0    2579.0  \n",
      "2              0.0              0.0    2578.0  \n",
      "3              0.0              0.0    2577.0  \n",
      "4              0.0              0.0    2576.0  \n",
      "\n",
      "[5 rows x 2891 columns]\n"
     ]
    }
   ],
   "source": [
    "if 'country' in data.columns:\n",
    "    # Step 1: One-Hot Encoding for 'country' feature\n",
    "    one_hot_encoder = OneHotEncoder(sparse=False, drop='first')\n",
    "    country_encoded = pd.DataFrame(one_hot_encoder.fit_transform(data[['country']]), \n",
    "                                   columns=one_hot_encoder.get_feature_names_out(['country']))\n",
    "    \n",
    "    # Drop the original 'country' column and concatenate the encoded columns\n",
    "    data_encoded = data.drop('country', axis=1)\n",
    "    data_encoded = pd.concat([data_encoded, country_encoded], axis=1)\n",
    "    \n",
    "    # Step 2: Cluster-Based Features\n",
    "    # Example: Group countries into clusters (e.g., using 5 clusters)\n",
    "    kmeans = KMeans(n_clusters=5, random_state=42)\n",
    "    country_clusters = kmeans.fit_predict(country_encoded)\n",
    "    \n",
    "    # Add the cluster information to the dataset\n",
    "    data_encoded['country_cluster'] = country_clusters\n",
    "    \n",
    "    # Save the processed dataset\n",
    "    data_encoded.to_csv('your_processed_dataset_with_geographical_features.csv', index=False)\n",
    "else:\n",
    "    print(\"Column 'country' not found in the dataset\")\n",
    "\n",
    "# Check the resulting dataset\n",
    "print(data_encoded.head())"
   ]
  },
  {
   "cell_type": "code",
   "execution_count": 44,
   "id": "7b890c5d-e335-4716-9399-68235399775e",
   "metadata": {},
   "outputs": [],
   "source": [
    "from sklearn.feature_selection import VarianceThreshold, SelectKBest, chi2, f_classif, mutual_info_classif, SelectFromModel\n",
    "from sklearn.linear_model import LassoCV, RidgeCV\n",
    "from sklearn.preprocessing import StandardScaler\n",
    "from sklearn.model_selection import train_test_split"
   ]
  },
  {
   "cell_type": "markdown",
   "id": "4d41602a-06fa-45ec-97ae-8c96b3b29042",
   "metadata": {},
   "source": [
    "# Feature Selection\n"
   ]
  },
  {
   "cell_type": "code",
   "execution_count": 45,
   "id": "a6c5d8dc-31ad-4b81-8b2e-8c9780404023",
   "metadata": {},
   "outputs": [],
   "source": [
    "data = pd.read_csv('ramen-ratings.csv')"
   ]
  },
  {
   "cell_type": "code",
   "execution_count": 46,
   "id": "c5a3ce48-7ebe-459a-8e75-b3d7889ad915",
   "metadata": {},
   "outputs": [
    {
     "name": "stdout",
     "output_type": "stream",
     "text": [
      "<class 'pandas.core.frame.DataFrame'>\n",
      "RangeIndex: 2580 entries, 0 to 2579\n",
      "Data columns (total 7 columns):\n",
      " #   Column    Non-Null Count  Dtype \n",
      "---  ------    --------------  ----- \n",
      " 0   Review #  2580 non-null   int64 \n",
      " 1   Brand     2580 non-null   object\n",
      " 2   Variety   2580 non-null   object\n",
      " 3   Style     2578 non-null   object\n",
      " 4   Country   2580 non-null   object\n",
      " 5   Stars     2580 non-null   object\n",
      " 6   Top_Ten   41 non-null     object\n",
      "dtypes: int64(1), object(6)\n",
      "memory usage: 141.2+ KB\n"
     ]
    }
   ],
   "source": [
    "data.info()"
   ]
  },
  {
   "cell_type": "code",
   "execution_count": 47,
   "id": "56038214-ceb4-41fc-8cde-168e7dbf08a9",
   "metadata": {},
   "outputs": [],
   "source": [
    "df = pd.DataFrame({\n",
    "    'Review #': np.random.rand(100),\n",
    "    'Brand': np.random.rand(100),\n",
    "    'Variety': np.random.rand(100),\n",
    "    'Style': np.random.rand(100),\n",
    "    'Country': np.random.rand(100),\n",
    "    'Stars': np.random.randint(2, size=100)\n",
    "})"
   ]
  },
  {
   "cell_type": "code",
   "execution_count": 48,
   "id": "78bfdadc-77a8-4e49-8a1e-0cac3c0eae6c",
   "metadata": {},
   "outputs": [],
   "source": [
    "X = df.drop('Stars', axis=1)\n",
    "y = df['Stars']"
   ]
  },
  {
   "cell_type": "code",
   "execution_count": 49,
   "id": "680aa39d-05ef-4b35-9d98-b9187d7a947e",
   "metadata": {},
   "outputs": [],
   "source": [
    "# Variance Threshold\n",
    "selector = VarianceThreshold(threshold=0.01)  \n",
    "X_var_thresh = selector.fit_transform(X)"
   ]
  },
  {
   "cell_type": "code",
   "execution_count": 50,
   "id": "6b32c885-84ba-4c2d-a505-d9e4281a8e35",
   "metadata": {},
   "outputs": [],
   "source": [
    "corr_matrix = pd.DataFrame(X_var_thresh).corr().abs()\n",
    "upper = corr_matrix.where(np.triu(np.ones(corr_matrix.shape), k=1).astype(bool))\n",
    "to_drop = [column for column in upper.columns if any(upper[column] > 0.95)]  # you can adjust the threshold\n",
    "X_corr = pd.DataFrame(X_var_thresh).drop(columns=to_drop, axis=1)"
   ]
  },
  {
   "cell_type": "code",
   "execution_count": 51,
   "id": "8de31bad-f40e-43ce-8677-d4f03b257f48",
   "metadata": {},
   "outputs": [],
   "source": [
    "X_new_chi2 = SelectKBest(chi2, k=5).fit_transform(X_corr, y)  \n",
    "X_new_anova = SelectKBest(f_classif, k=5).fit_transform(X_corr, y)  \n",
    "X_new_mi = SelectKBest(mutual_info_classif, k=5).fit_transform(X_corr, y) "
   ]
  },
  {
   "cell_type": "code",
   "execution_count": 52,
   "id": "cfedca4d-1cfe-4d33-bdd4-32a506d2a866",
   "metadata": {},
   "outputs": [],
   "source": [
    "X_new_combined = np.hstack((X_new_chi2, X_new_anova, X_new_mi))\n",
    "X_new_combined = pd.DataFrame(X_new_combined)"
   ]
  },
  {
   "cell_type": "markdown",
   "id": "ba6e3668-2457-4740-b463-bd22f313c9c3",
   "metadata": {},
   "source": [
    "## REGULARIZATION"
   ]
  },
  {
   "cell_type": "code",
   "execution_count": 53,
   "id": "02a27233-4b08-45c4-a547-b8ef1bbecdd2",
   "metadata": {},
   "outputs": [],
   "source": [
    "scaler = StandardScaler()\n",
    "X_scaled = scaler.fit_transform(X_new_combined)"
   ]
  },
  {
   "cell_type": "code",
   "execution_count": 54,
   "id": "68e4f234-7397-4def-a4be-502f9f5ccd98",
   "metadata": {},
   "outputs": [],
   "source": [
    "#LASSOCV\n",
    "lasso = LassoCV(cv=5).fit(X_scaled, y)\n",
    "model = SelectFromModel(lasso, prefit=True)\n",
    "X_lasso_selected = model.transform(X_scaled)"
   ]
  },
  {
   "cell_type": "code",
   "execution_count": 55,
   "id": "8248dba1-de54-4a62-bb87-99b954ac3c5b",
   "metadata": {},
   "outputs": [],
   "source": [
    "# RidgeCV\n",
    "ridge = RidgeCV(cv=5).fit(X_scaled, y)\n",
    "model = SelectFromModel(ridge, prefit=True)\n",
    "X_ridge_selected = model.transform(X_scaled)\n",
    "\n",
    "# Final feature set\n",
    "X_final = pd.DataFrame(X_lasso_selected)\n",
    "\n",
    "# Split data into training and testing sets\n",
    "X_train, X_test, y_train, y_test = train_test_split(X_final, y, test_size=0.2, random_state=42)# RidgeCV\n",
    "ridge = RidgeCV(cv=5).fit(X_scaled, y)\n",
    "model = SelectFromModel(ridge, prefit=True)\n",
    "X_ridge_selected = model.transform(X_scaled)\n",
    "\n",
    "# Final feature set\n",
    "X_final = pd.DataFrame(X_lasso_selected)\n",
    "\n",
    "# Split data into training and testing sets\n",
    "X_train, X_test, y_train, y_test = train_test_split(X_final, y, test_size=0.2, random_state=42)"
   ]
  },
  {
   "cell_type": "markdown",
   "id": "2ae8a8ba-336b-41ee-9019-af17ca6c19e6",
   "metadata": {},
   "source": [
    "# Cross Validation"
   ]
  },
  {
   "cell_type": "code",
   "execution_count": 73,
   "id": "292463e1-3a61-48c9-a693-efcbc29172bb",
   "metadata": {},
   "outputs": [
    {
     "name": "stdout",
     "output_type": "stream",
     "text": [
      "Cross-Validation Scores: [0.5625 0.4375 0.5625 0.5625 0.625 ]\n",
      "Average Cross-Validation Score: 0.55\n"
     ]
    }
   ],
   "source": [
    "from sklearn.model_selection import train_test_split, GridSearchCV, cross_val_score\n",
    "from sklearn.ensemble import RandomForestClassifier\n",
    "from sklearn.metrics import accuracy_score, classification_report, confusion_matrix\n",
    "import matplotlib.pyplot as plt\n",
    "X_final = pd.DataFrame(X_lasso_selected)\n",
    "\n",
    "# Split data into training and testing sets\n",
    "X_train, X_test, y_train, y_test = train_test_split(X_final, y, test_size=0.2, random_state=42)\n",
    "\n",
    "# Cross-Validation: Evaluate stability and performance\n",
    "clf = RandomForestClassifier(random_state=42)\n",
    "cross_val_scores = cross_val_score(clf, X_train, y_train, cv=5)\n",
    "print(f'Cross-Validation Scores: {cross_val_scores}')\n",
    "print(f'Average Cross-Validation Score: {np.mean(cross_val_scores):.2f}')"
   ]
  },
  {
   "cell_type": "markdown",
   "id": "f8aa5808-b970-4123-ad6d-4ce2ef837dd5",
   "metadata": {},
   "source": [
    "# Hyper Parameter Tunning"
   ]
  },
  {
   "cell_type": "code",
   "execution_count": 74,
   "id": "c5f2f627-13e9-4b74-a68a-8831888cf6af",
   "metadata": {},
   "outputs": [
    {
     "name": "stdout",
     "output_type": "stream",
     "text": [
      "Best Parameters: {'max_depth': None, 'min_samples_split': 2, 'n_estimators': 50}\n"
     ]
    }
   ],
   "source": [
    "param_grid = {\n",
    "    'n_estimators': [50, 100, 200],\n",
    "    'max_depth': [None, 10, 20, 30],\n",
    "    'min_samples_split': [2, 5, 10]\n",
    "}\n",
    "\n",
    "grid_search = GridSearchCV(clf, param_grid, cv=5, scoring='accuracy')\n",
    "grid_search.fit(X_train, y_train)\n",
    "\n",
    "best_clf = grid_search.best_estimator_\n",
    "print(f'Best Parameters: {grid_search.best_params_}')"
   ]
  },
  {
   "cell_type": "code",
   "execution_count": 76,
   "id": "8e982394-8fc9-468c-baf4-5b9b731d59fe",
   "metadata": {},
   "outputs": [
    {
     "name": "stdout",
     "output_type": "stream",
     "text": [
      "Classification Report:\n",
      "              precision    recall  f1-score   support\n",
      "\n",
      "           0       0.46      0.60      0.52        10\n",
      "           1       0.43      0.30      0.35        10\n",
      "\n",
      "    accuracy                           0.45        20\n",
      "   macro avg       0.45      0.45      0.44        20\n",
      "weighted avg       0.45      0.45      0.44        20\n",
      "\n",
      "Confusion Matrix:\n",
      "[[6 4]\n",
      " [7 3]]\n",
      "Feature Importances:\n",
      "   Feature  Importance\n",
      "3        3    0.221837\n",
      "4        4    0.217030\n",
      "1        1    0.212100\n",
      "2        2    0.181278\n",
      "0        0    0.167754\n"
     ]
    },
    {
     "data": {
      "image/png": "[encoded data removed]",
      "text/plain": [
       "<Figure size 1000x600 with 1 Axes>"
      ]
     },
     "metadata": {},
     "output_type": "display_data"
    }
   ],
   "source": [
    "best_clf.fit(X_train, y_train)\n",
    "\n",
    "# Make predictions\n",
    "y_pred = best_clf.predict(X_test)\n",
    "\n",
    "# Evaluate the model\n",
    "accuracy = accuracy_score(y_test, y_pred)\n",
    "report = classification_report(y_test, y_pred)\n",
    "conf_matrix = confusion_matrix(y_test, y_pred)\n",
    "\n",
    "\n",
    "print('Classification Report:')\n",
    "print(report)\n",
    "print('Confusion Matrix:')\n",
    "print(conf_matrix)\n",
    "\n",
    "# Feature Importance Analysis\n",
    "feature_importances = best_clf.feature_importances_\n",
    "features = X_final.columns\n",
    "importance_df = pd.DataFrame({'Feature': features, 'Importance': feature_importances})\n",
    "importance_df = importance_df.sort_values(by='Importance', ascending=False)\n",
    "\n",
    "print('Feature Importances:')\n",
    "print(importance_df)\n",
    "\n",
    "# Plot Feature Importances\n",
    "plt.figure(figsize=(10, 6))\n",
    "plt.barh(importance_df['Feature'], importance_df['Importance'])\n",
    "plt.xlabel('Feature Importance')\n",
    "plt.ylabel('Feature')\n",
    "plt.title('Feature Importance Analysis')\n",
    "plt.gca().invert_yaxis()\n",
    "plt.show()"
   ]
  },
  {
   "cell_type": "code",
   "execution_count": null,
   "id": "ac51f563-19ee-47c7-a981-087610123b7f",
   "metadata": {},
   "outputs": [],
   "source": []
  },
  {
   "cell_type": "code",
   "execution_count": null,
   "id": "07a8cb1a-a27f-49f1-82ef-da198cb23879",
   "metadata": {},
   "outputs": [],
   "source": []
  },
  {
   "cell_type": "code",
   "execution_count": null,
   "id": "ab2d472c-dbc0-449e-9dec-9cef2e457d86",
   "metadata": {},
   "outputs": [],
   "source": []
  },
  {
   "cell_type": "code",
   "execution_count": null,
   "id": "a67b6d23-2b0e-470f-ab46-04f92f1e8550",
   "metadata": {},
   "outputs": [],
   "source": []
  },
  {
   "cell_type": "code",
   "execution_count": null,
   "id": "492e2e6f-d411-4cb8-9569-d1215d071d97",
   "metadata": {},
   "outputs": [],
   "source": []
  }
 ],
 "metadata": {
  "kernelspec": {
   "display_name": "Python 3 (ipykernel)",
   "language": "python",
   "name": "python3"
  },
  "language_info": {
   "codemirror_mode": {
    "name": "ipython",
    "version": 3
   },
   "file_extension": ".py",
   "mimetype": "text/x-python",
   "name": "python",
   "nbconvert_exporter": "python",
   "pygments_lexer": "ipython3",
   "version": "3.11.7"
  }
 },
 "nbformat": 4,
 "nbformat_minor": 5
}
